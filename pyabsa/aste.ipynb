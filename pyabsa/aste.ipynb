{
 "cells": [
  {
   "cell_type": "code",
   "execution_count": 39,
   "metadata": {},
   "outputs": [],
   "source": [
    "import os\n",
    "import warnings\n",
    "\n",
    "import findfile\n",
    "from pyabsa import ABSAInstruction as absa_instruction\n",
    "\n",
    "warnings.filterwarnings(\"ignore\")\n",
    "import pandas as pd"
   ]
  },
  {
   "cell_type": "code",
   "execution_count": 51,
   "metadata": {},
   "outputs": [],
   "source": [
    "model_out_path = 'checkpoints/absa/laptop14'"
   ]
  },
  {
   "cell_type": "code",
   "execution_count": 41,
   "metadata": {},
   "outputs": [
    {
     "name": "stdout",
     "output_type": "stream",
     "text": [
      "../datasets\\laptop_quad_train.tsv.jsonl\n",
      "../datasets\\laptop_quad_test.tsv.jsonl\n"
     ]
    }
   ],
   "source": [
    "id_train_file_path = '../datasets'\n",
    "id_test_file_path = '../datasets'\n",
    "\n",
    "id_tr_df = absa_instruction.data_utils.read_json(id_train_file_path, \"laptop_quad_train.tsv\")\n",
    "id_te_df = absa_instruction.data_utils.read_json(id_test_file_path, \"laptop_quad_test.tsv\")"
   ]
  },
  {
   "cell_type": "code",
   "execution_count": 42,
   "metadata": {},
   "outputs": [],
   "source": [
    "id_tr_df = pd.DataFrame(id_tr_df)\n",
    "id_te_df = pd.DataFrame(id_te_df)"
   ]
  },
  {
   "cell_type": "code",
   "execution_count": 45,
   "metadata": {},
   "outputs": [
    {
     "data": {
      "text/html": [
       "<div>\n",
       "<style scoped>\n",
       "    .dataframe tbody tr th:only-of-type {\n",
       "        vertical-align: middle;\n",
       "    }\n",
       "\n",
       "    .dataframe tbody tr th {\n",
       "        vertical-align: top;\n",
       "    }\n",
       "\n",
       "    .dataframe thead th {\n",
       "        text-align: right;\n",
       "    }\n",
       "</style>\n",
       "<table border=\"1\" class=\"dataframe\">\n",
       "  <thead>\n",
       "    <tr style=\"text-align: right;\">\n",
       "      <th></th>\n",
       "      <th>text</th>\n",
       "      <th>labels</th>\n",
       "    </tr>\n",
       "  </thead>\n",
       "  <tbody>\n",
       "    <tr>\n",
       "      <th>0</th>\n",
       "      <td>acer wants $ 170 to just look at it then add t...</td>\n",
       "      <td>[{'aspect': 'acer', 'opinion': 'NULL', 'polari...</td>\n",
       "    </tr>\n",
       "    <tr>\n",
       "      <th>1</th>\n",
       "      <td>update : i repaired it myself for $ 12 .</td>\n",
       "      <td>[{'aspect': 'NULL', 'opinion': 'NULL', 'polari...</td>\n",
       "    </tr>\n",
       "    <tr>\n",
       "      <th>2</th>\n",
       "      <td>i had nothing to lose since it was a paper wei...</td>\n",
       "      <td>[{'aspect': 'NULL', 'opinion': 'NULL', 'polari...</td>\n",
       "    </tr>\n",
       "    <tr>\n",
       "      <th>3</th>\n",
       "      <td>the shame of it is knowing it took me 15 minut...</td>\n",
       "      <td>[{'aspect': 'acer', 'opinion': 'NULL', 'polari...</td>\n",
       "    </tr>\n",
       "    <tr>\n",
       "      <th>4</th>\n",
       "      <td>first one that they shipped was obviously defe...</td>\n",
       "      <td>[{'aspect': 'NULL', 'opinion': 'defective', 'p...</td>\n",
       "    </tr>\n",
       "    <tr>\n",
       "      <th>...</th>\n",
       "      <td>...</td>\n",
       "      <td>...</td>\n",
       "    </tr>\n",
       "    <tr>\n",
       "      <th>2929</th>\n",
       "      <td>i think the sound could be better .</td>\n",
       "      <td>[{'aspect': 'sound', 'opinion': 'could be bett...</td>\n",
       "    </tr>\n",
       "    <tr>\n",
       "      <th>2930</th>\n",
       "      <td>i didn ' t want to spend much on this as it is...</td>\n",
       "      <td>[{'aspect': 'performs', 'opinion': 'better', '...</td>\n",
       "    </tr>\n",
       "    <tr>\n",
       "      <th>2931</th>\n",
       "      <td>an awesome product , well built - well worth y...</td>\n",
       "      <td>[{'aspect': 'product', 'opinion': 'awesome', '...</td>\n",
       "    </tr>\n",
       "    <tr>\n",
       "      <th>2932</th>\n",
       "      <td>backlit keyboard is great ; feels sturdy ; fas...</td>\n",
       "      <td>[{'aspect': 'backlit keyboard', 'opinion': 'gr...</td>\n",
       "    </tr>\n",
       "    <tr>\n",
       "      <th>2933</th>\n",
       "      <td>the keyboard is nice to type on .</td>\n",
       "      <td>[{'aspect': 'keyboard', 'opinion': 'nice', 'po...</td>\n",
       "    </tr>\n",
       "  </tbody>\n",
       "</table>\n",
       "<p>2934 rows × 2 columns</p>\n",
       "</div>"
      ],
      "text/plain": [
       "                                                   text  \\\n",
       "0     acer wants $ 170 to just look at it then add t...   \n",
       "1              update : i repaired it myself for $ 12 .   \n",
       "2     i had nothing to lose since it was a paper wei...   \n",
       "3     the shame of it is knowing it took me 15 minut...   \n",
       "4     first one that they shipped was obviously defe...   \n",
       "...                                                 ...   \n",
       "2929                i think the sound could be better .   \n",
       "2930  i didn ' t want to spend much on this as it is...   \n",
       "2931  an awesome product , well built - well worth y...   \n",
       "2932  backlit keyboard is great ; feels sturdy ; fas...   \n",
       "2933                  the keyboard is nice to type on .   \n",
       "\n",
       "                                                 labels  \n",
       "0     [{'aspect': 'acer', 'opinion': 'NULL', 'polari...  \n",
       "1     [{'aspect': 'NULL', 'opinion': 'NULL', 'polari...  \n",
       "2     [{'aspect': 'NULL', 'opinion': 'NULL', 'polari...  \n",
       "3     [{'aspect': 'acer', 'opinion': 'NULL', 'polari...  \n",
       "4     [{'aspect': 'NULL', 'opinion': 'defective', 'p...  \n",
       "...                                                 ...  \n",
       "2929  [{'aspect': 'sound', 'opinion': 'could be bett...  \n",
       "2930  [{'aspect': 'performs', 'opinion': 'better', '...  \n",
       "2931  [{'aspect': 'product', 'opinion': 'awesome', '...  \n",
       "2932  [{'aspect': 'backlit keyboard', 'opinion': 'gr...  \n",
       "2933  [{'aspect': 'keyboard', 'opinion': 'nice', 'po...  \n",
       "\n",
       "[2934 rows x 2 columns]"
      ]
     },
     "execution_count": 45,
     "metadata": {},
     "output_type": "execute_result"
    }
   ],
   "source": [
    "id_tr_df"
   ]
  },
  {
   "cell_type": "code",
   "execution_count": 46,
   "metadata": {},
   "outputs": [],
   "source": [
    "loader = absa_instruction.data_utils.InstructDatasetLoader(id_tr_df, id_te_df)"
   ]
  },
  {
   "cell_type": "code",
   "execution_count": 47,
   "metadata": {},
   "outputs": [],
   "source": [
    "if loader.train_df_id is not None:\n",
    "    loader.train_df_id = loader.prepare_instruction_dataloader(loader.train_df_id)\n",
    "if loader.test_df_id is not None:\n",
    "    loader.test_df_id = loader.prepare_instruction_dataloader(loader.test_df_id)\n",
    "if loader.train_df_ood is not None:\n",
    "    loader.train_df_ood = loader.prepare_instruction_dataloader(loader.train_df_ood)\n",
    "if loader.test_df_ood is not None:\n",
    "    loader.test_df_ood = loader.prepare_instruction_dataloader(loader.test_df_ood)"
   ]
  },
  {
   "cell_type": "code",
   "execution_count": 48,
   "metadata": {},
   "outputs": [
    {
     "name": "stdout",
     "output_type": "stream",
     "text": [
      "[2025-03-04 21:54:43] (2.4.1.post1) ********** Available ACOS model checkpoints for Version:2.4.1.post1 (this version) **********\n",
      "[2025-03-04 21:54:43] (2.4.1.post1) ********** Available ACOS model checkpoints for Version:2.4.1.post1 (this version) **********\n",
      "[2025-03-04 21:54:43] (2.4.1.post1) Checkpoint:kevinscaria/ate_tk-instruct-base-def-pos-neg-neut-combined is not found, you can raise an issue for requesting shares of checkpoints\n",
      "[2025-03-04 21:54:43] (2.4.1.post1) No checkpoint found in Model Hub for task: kevinscaria/ate_tk-instruct-base-def-pos-neg-neut-combined\n"
     ]
    }
   ],
   "source": [
    "model_checkpoint = \"kevinscaria/ate_tk-instruct-base-def-pos-neg-neut-combined\"\n",
    "t5_exp = absa_instruction.model.T5Generator(model_checkpoint)\n"
   ]
  },
  {
   "cell_type": "code",
   "execution_count": 49,
   "metadata": {},
   "outputs": [
    {
     "name": "stderr",
     "output_type": "stream",
     "text": [
      "Map: 100%|██████████| 10970/10970 [00:01<00:00, 9966.57 examples/s] \n",
      "Map: 100%|██████████| 3075/3075 [00:00<00:00, 17194.01 examples/s]\n"
     ]
    }
   ],
   "source": [
    "id_ds, id_tokenized_ds, ood_ds, ood_tokenzed_ds = loader.create_datasets(\n",
    "    t5_exp.tokenize_function_inputs\n",
    ")"
   ]
  },
  {
   "cell_type": "code",
   "execution_count": 50,
   "metadata": {},
   "outputs": [
    {
     "data": {
      "text/plain": [
       "(DatasetDict({\n",
       "     train: Dataset({\n",
       "         features: ['text', 'labels'],\n",
       "         num_rows: 10970\n",
       "     })\n",
       "     test: Dataset({\n",
       "         features: ['text', 'labels'],\n",
       "         num_rows: 3075\n",
       "     })\n",
       " }),\n",
       " DatasetDict({\n",
       "     train: Dataset({\n",
       "         features: ['text', 'labels', 'input_ids', 'attention_mask'],\n",
       "         num_rows: 10970\n",
       "     })\n",
       "     test: Dataset({\n",
       "         features: ['text', 'labels', 'input_ids', 'attention_mask'],\n",
       "         num_rows: 3075\n",
       "     })\n",
       " }),\n",
       " None,\n",
       " None)"
      ]
     },
     "execution_count": 50,
     "metadata": {},
     "output_type": "execute_result"
    }
   ],
   "source": [
    "id_ds, id_tokenized_ds, ood_ds, ood_tokenzed_ds"
   ]
  },
  {
   "cell_type": "code",
   "execution_count": 55,
   "metadata": {},
   "outputs": [
    {
     "ename": "ImportError",
     "evalue": "Using the `Trainer` with `PyTorch` requires `accelerate>=0.26.0`: Please run `pip install transformers[torch]` or `pip install 'accelerate>=0.26.0'`",
     "output_type": "error",
     "traceback": [
      "\u001b[31m---------------------------------------------------------------------------\u001b[39m",
      "\u001b[31mImportError\u001b[39m                               Traceback (most recent call last)",
      "\u001b[36mCell\u001b[39m\u001b[36m \u001b[39m\u001b[32mIn[55]\u001b[39m\u001b[32m, line 20\u001b[39m\n\u001b[32m      1\u001b[39m training_args = {\n\u001b[32m      2\u001b[39m     \u001b[33m\"\u001b[39m\u001b[33moutput_dir\u001b[39m\u001b[33m\"\u001b[39m: model_out_path,\n\u001b[32m      3\u001b[39m     \u001b[33m\"\u001b[39m\u001b[33mevaluation_strategy\u001b[39m\u001b[33m\"\u001b[39m: \u001b[33m\"\u001b[39m\u001b[33mepoch\u001b[39m\u001b[33m\"\u001b[39m,\n\u001b[32m   (...)\u001b[39m\u001b[32m     17\u001b[39m     \u001b[33m'\u001b[39m\u001b[33mfp16\u001b[39m\u001b[33m'\u001b[39m: \u001b[38;5;28;01mFalse\u001b[39;00m,\n\u001b[32m     18\u001b[39m }\n\u001b[32m---> \u001b[39m\u001b[32m20\u001b[39m model_trainer = \u001b[43mt5_exp\u001b[49m\u001b[43m.\u001b[49m\u001b[43mtrain\u001b[49m\u001b[43m(\u001b[49m\u001b[43mid_tokenized_ds\u001b[49m\u001b[43m,\u001b[49m\u001b[43m \u001b[49m\u001b[43m*\u001b[49m\u001b[43m*\u001b[49m\u001b[43mtraining_args\u001b[49m\u001b[43m)\u001b[49m\n",
      "\u001b[36mFile \u001b[39m\u001b[32mc:\\Users\\User\\Downloads\\MDS22_ABSA\\venv\\Lib\\site-packages\\pyabsa\\tasks\\ABSAInstruction\\model.py:55\u001b[39m, in \u001b[36mT5Generator.train\u001b[39m\u001b[34m(self, tokenized_datasets, **kwargs)\u001b[39m\n\u001b[32m     51\u001b[39m \u001b[38;5;250m\u001b[39m\u001b[33;03m\"\"\"\u001b[39;00m\n\u001b[32m     52\u001b[39m \u001b[33;03mTrain the generative model.\u001b[39;00m\n\u001b[32m     53\u001b[39m \u001b[33;03m\"\"\"\u001b[39;00m\n\u001b[32m     54\u001b[39m \u001b[38;5;66;03m# Set training arguments\u001b[39;00m\n\u001b[32m---> \u001b[39m\u001b[32m55\u001b[39m args = \u001b[43mSeq2SeqTrainingArguments\u001b[49m\u001b[43m(\u001b[49m\u001b[43m*\u001b[49m\u001b[43m*\u001b[49m\u001b[43mkwargs\u001b[49m\u001b[43m)\u001b[49m\n\u001b[32m     57\u001b[39m \u001b[38;5;66;03m# Define trainer object\u001b[39;00m\n\u001b[32m     58\u001b[39m trainer = Seq2SeqTrainer(\n\u001b[32m     59\u001b[39m     \u001b[38;5;28mself\u001b[39m.model,\n\u001b[32m     60\u001b[39m     args,\n\u001b[32m   (...)\u001b[39m\u001b[32m     66\u001b[39m     data_collator=\u001b[38;5;28mself\u001b[39m.data_collator,\n\u001b[32m     67\u001b[39m )\n",
      "\u001b[36mFile \u001b[39m\u001b[32m<string>:139\u001b[39m, in \u001b[36m__init__\u001b[39m\u001b[34m(self, output_dir, overwrite_output_dir, do_train, do_eval, do_predict, eval_strategy, prediction_loss_only, per_device_train_batch_size, per_device_eval_batch_size, per_gpu_train_batch_size, per_gpu_eval_batch_size, gradient_accumulation_steps, eval_accumulation_steps, eval_delay, torch_empty_cache_steps, learning_rate, weight_decay, adam_beta1, adam_beta2, adam_epsilon, max_grad_norm, num_train_epochs, max_steps, lr_scheduler_type, lr_scheduler_kwargs, warmup_ratio, warmup_steps, log_level, log_level_replica, log_on_each_node, logging_dir, logging_strategy, logging_first_step, logging_steps, logging_nan_inf_filter, save_strategy, save_steps, save_total_limit, save_safetensors, save_on_each_node, save_only_model, restore_callback_states_from_checkpoint, no_cuda, use_cpu, use_mps_device, seed, data_seed, jit_mode_eval, use_ipex, bf16, fp16, fp16_opt_level, half_precision_backend, bf16_full_eval, fp16_full_eval, tf32, local_rank, ddp_backend, tpu_num_cores, tpu_metrics_debug, debug, dataloader_drop_last, eval_steps, dataloader_num_workers, dataloader_prefetch_factor, past_index, run_name, disable_tqdm, remove_unused_columns, label_names, load_best_model_at_end, metric_for_best_model, greater_is_better, ignore_data_skip, fsdp, fsdp_min_num_params, fsdp_config, fsdp_transformer_layer_cls_to_wrap, accelerator_config, deepspeed, label_smoothing_factor, optim, optim_args, adafactor, group_by_length, length_column_name, report_to, ddp_find_unused_parameters, ddp_bucket_cap_mb, ddp_broadcast_buffers, dataloader_pin_memory, dataloader_persistent_workers, skip_memory_metrics, use_legacy_prediction_loop, push_to_hub, resume_from_checkpoint, hub_model_id, hub_strategy, hub_token, hub_private_repo, hub_always_push, gradient_checkpointing, gradient_checkpointing_kwargs, include_inputs_for_metrics, include_for_metrics, eval_do_concat_batches, fp16_backend, evaluation_strategy, push_to_hub_model_id, push_to_hub_organization, push_to_hub_token, mp_parameters, auto_find_batch_size, full_determinism, torchdynamo, ray_scope, ddp_timeout, torch_compile, torch_compile_backend, torch_compile_mode, dispatch_batches, split_batches, include_tokens_per_second, include_num_input_tokens_seen, neftune_noise_alpha, optim_target_modules, batch_eval_metrics, eval_on_start, use_liger_kernel, eval_use_gather_object, average_tokens_across_devices, sortish_sampler, predict_with_generate, generation_max_length, generation_num_beams, generation_config)\u001b[39m\n",
      "\u001b[36mFile \u001b[39m\u001b[32mc:\\Users\\User\\Downloads\\MDS22_ABSA\\venv\\Lib\\site-packages\\transformers\\training_args.py:1791\u001b[39m, in \u001b[36mTrainingArguments.__post_init__\u001b[39m\u001b[34m(self)\u001b[39m\n\u001b[32m   1789\u001b[39m \u001b[38;5;66;03m# Initialize device before we proceed\u001b[39;00m\n\u001b[32m   1790\u001b[39m \u001b[38;5;28;01mif\u001b[39;00m \u001b[38;5;28mself\u001b[39m.framework == \u001b[33m\"\u001b[39m\u001b[33mpt\u001b[39m\u001b[33m\"\u001b[39m \u001b[38;5;129;01mand\u001b[39;00m is_torch_available():\n\u001b[32m-> \u001b[39m\u001b[32m1791\u001b[39m     \u001b[38;5;28;43mself\u001b[39;49m\u001b[43m.\u001b[49m\u001b[43mdevice\u001b[49m\n\u001b[32m   1793\u001b[39m \u001b[38;5;66;03m# Disable average tokens when using single device\u001b[39;00m\n\u001b[32m   1794\u001b[39m \u001b[38;5;28;01mif\u001b[39;00m \u001b[38;5;28mself\u001b[39m.average_tokens_across_devices:\n",
      "\u001b[36mFile \u001b[39m\u001b[32mc:\\Users\\User\\Downloads\\MDS22_ABSA\\venv\\Lib\\site-packages\\transformers\\training_args.py:2313\u001b[39m, in \u001b[36mTrainingArguments.device\u001b[39m\u001b[34m(self)\u001b[39m\n\u001b[32m   2309\u001b[39m \u001b[38;5;250m\u001b[39m\u001b[33;03m\"\"\"\u001b[39;00m\n\u001b[32m   2310\u001b[39m \u001b[33;03mThe device used by this process.\u001b[39;00m\n\u001b[32m   2311\u001b[39m \u001b[33;03m\"\"\"\u001b[39;00m\n\u001b[32m   2312\u001b[39m requires_backends(\u001b[38;5;28mself\u001b[39m, [\u001b[33m\"\u001b[39m\u001b[33mtorch\u001b[39m\u001b[33m\"\u001b[39m])\n\u001b[32m-> \u001b[39m\u001b[32m2313\u001b[39m \u001b[38;5;28;01mreturn\u001b[39;00m \u001b[38;5;28;43mself\u001b[39;49m\u001b[43m.\u001b[49m\u001b[43m_setup_devices\u001b[49m\n",
      "\u001b[36mFile \u001b[39m\u001b[32mc:\\Users\\User\\Downloads\\MDS22_ABSA\\venv\\Lib\\site-packages\\transformers\\utils\\generic.py:62\u001b[39m, in \u001b[36mcached_property.__get__\u001b[39m\u001b[34m(self, obj, objtype)\u001b[39m\n\u001b[32m     60\u001b[39m cached = \u001b[38;5;28mgetattr\u001b[39m(obj, attr, \u001b[38;5;28;01mNone\u001b[39;00m)\n\u001b[32m     61\u001b[39m \u001b[38;5;28;01mif\u001b[39;00m cached \u001b[38;5;129;01mis\u001b[39;00m \u001b[38;5;28;01mNone\u001b[39;00m:\n\u001b[32m---> \u001b[39m\u001b[32m62\u001b[39m     cached = \u001b[38;5;28;43mself\u001b[39;49m\u001b[43m.\u001b[49m\u001b[43mfget\u001b[49m\u001b[43m(\u001b[49m\u001b[43mobj\u001b[49m\u001b[43m)\u001b[49m\n\u001b[32m     63\u001b[39m     \u001b[38;5;28msetattr\u001b[39m(obj, attr, cached)\n\u001b[32m     64\u001b[39m \u001b[38;5;28;01mreturn\u001b[39;00m cached\n",
      "\u001b[36mFile \u001b[39m\u001b[32mc:\\Users\\User\\Downloads\\MDS22_ABSA\\venv\\Lib\\site-packages\\transformers\\training_args.py:2186\u001b[39m, in \u001b[36mTrainingArguments._setup_devices\u001b[39m\u001b[34m(self)\u001b[39m\n\u001b[32m   2184\u001b[39m \u001b[38;5;28;01mif\u001b[39;00m \u001b[38;5;129;01mnot\u001b[39;00m is_sagemaker_mp_enabled():\n\u001b[32m   2185\u001b[39m     \u001b[38;5;28;01mif\u001b[39;00m \u001b[38;5;129;01mnot\u001b[39;00m is_accelerate_available():\n\u001b[32m-> \u001b[39m\u001b[32m2186\u001b[39m         \u001b[38;5;28;01mraise\u001b[39;00m \u001b[38;5;167;01mImportError\u001b[39;00m(\n\u001b[32m   2187\u001b[39m             \u001b[33mf\u001b[39m\u001b[33m\"\u001b[39m\u001b[33mUsing the `Trainer` with `PyTorch` requires `accelerate>=\u001b[39m\u001b[38;5;132;01m{\u001b[39;00mACCELERATE_MIN_VERSION\u001b[38;5;132;01m}\u001b[39;00m\u001b[33m`: \u001b[39m\u001b[33m\"\u001b[39m\n\u001b[32m   2188\u001b[39m             \u001b[33mf\u001b[39m\u001b[33m\"\u001b[39m\u001b[33mPlease run `pip install transformers[torch]` or `pip install \u001b[39m\u001b[33m'\u001b[39m\u001b[33maccelerate>=\u001b[39m\u001b[38;5;132;01m{\u001b[39;00mACCELERATE_MIN_VERSION\u001b[38;5;132;01m}\u001b[39;00m\u001b[33m'\u001b[39m\u001b[33m`\u001b[39m\u001b[33m\"\u001b[39m\n\u001b[32m   2189\u001b[39m         )\n\u001b[32m   2190\u001b[39m \u001b[38;5;66;03m# We delay the init of `PartialState` to the end for clarity\u001b[39;00m\n\u001b[32m   2191\u001b[39m accelerator_state_kwargs = {\u001b[33m\"\u001b[39m\u001b[33menabled\u001b[39m\u001b[33m\"\u001b[39m: \u001b[38;5;28;01mTrue\u001b[39;00m, \u001b[33m\"\u001b[39m\u001b[33muse_configured_state\u001b[39m\u001b[33m\"\u001b[39m: \u001b[38;5;28;01mFalse\u001b[39;00m}\n",
      "\u001b[31mImportError\u001b[39m: Using the `Trainer` with `PyTorch` requires `accelerate>=0.26.0`: Please run `pip install transformers[torch]` or `pip install 'accelerate>=0.26.0'`"
     ]
    }
   ],
   "source": [
    "training_args = {\n",
    "    \"output_dir\": model_out_path,\n",
    "    \"evaluation_strategy\": \"epoch\",\n",
    "    \"save_strategy\": \"epoch\",\n",
    "    \"learning_rate\": 5e-5,\n",
    "    \"per_device_train_batch_size\": 4,\n",
    "    \"per_device_eval_batch_size\": 16,\n",
    "    \"num_train_epochs\": 16,\n",
    "    \"weight_decay\": 0.01,\n",
    "    \"warmup_ratio\": 0.1,\n",
    "    \"load_best_model_at_end\": True,\n",
    "    \"push_to_hub\": False,\n",
    "    \"eval_accumulation_steps\": 1,\n",
    "    \"predict_with_generate\": True,\n",
    "    \"logging_steps\": 1000000000,\n",
    "    \"use_mps_device\": False,\n",
    "    'fp16': False,\n",
    "}\n",
    "\n",
    "model_trainer = t5_exp.train(id_tokenized_ds, **training_args)"
   ]
  },
  {
   "cell_type": "code",
   "execution_count": null,
   "metadata": {},
   "outputs": [
    {
     "name": "stdout",
     "output_type": "stream",
     "text": [
      "1.4.0\n"
     ]
    }
   ],
   "source": []
  }
 ],
 "metadata": {
  "kernelspec": {
   "display_name": "venv",
   "language": "python",
   "name": "python3"
  },
  "language_info": {
   "codemirror_mode": {
    "name": "ipython",
    "version": 3
   },
   "file_extension": ".py",
   "mimetype": "text/x-python",
   "name": "python",
   "nbconvert_exporter": "python",
   "pygments_lexer": "ipython3",
   "version": "3.12.2"
  }
 },
 "nbformat": 4,
 "nbformat_minor": 2
}
