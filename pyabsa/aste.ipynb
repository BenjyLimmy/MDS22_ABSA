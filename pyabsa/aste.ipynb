{
 "cells": [
  {
   "cell_type": "code",
   "execution_count": 1,
   "metadata": {},
   "outputs": [
    {
     "name": "stderr",
     "output_type": "stream",
     "text": [
      "c:\\Users\\User\\Downloads\\MDS22_ABSA\\venv\\Lib\\site-packages\\tqdm\\auto.py:21: TqdmWarning: IProgress not found. Please update jupyter and ipywidgets. See https://ipywidgets.readthedocs.io/en/stable/user_install.html\n",
      "  from .autonotebook import tqdm as notebook_tqdm\n"
     ]
    },
    {
     "name": "stdout",
     "output_type": "stream",
     "text": [
      "No CUDA GPU found in your device\n",
      "[2025-03-04 21:43:02] (2.4.1.post1) PyABSA(2.4.1.post1): If your code crashes on Colab, please use the GPU runtime. Then run \"pip install pyabsa[dev] -U\" and restart the kernel.\n",
      "Or if it does not work, you can use v1.x versions, e.g., pip install pyabsa<2.0 -U\n",
      "\n",
      "\n",
      "\n",
      "\n",
      "WARNING: When you fails to load a checkpoint, e.g., Unexpected key(s),\n",
      "Try to downgrade transformers<=4.29.0.\n",
      "\n",
      "\n",
      "\n",
      "\n"
     ]
    }
   ],
   "source": [
    "import os\n",
    "import warnings\n",
    "\n",
    "import findfile\n",
    "from pyabsa import ABSAInstruction as absa_instruction\n",
    "\n",
    "warnings.filterwarnings(\"ignore\")\n",
    "import pandas as pd"
   ]
  },
  {
   "cell_type": "code",
   "execution_count": 2,
   "metadata": {},
   "outputs": [],
   "source": [
    "id_train_file_path = '../datasets'\n",
    "id_test_file_path = '../datasets'\n",
    "\n",
    "id_tr_df = absa_instruction.data_utils.read_json(id_train_file_path, \"laptop_quad_train.tsv\")\n",
    "id_te_df = absa_instruction.data_utils.read_json(id_test_file_path, \"laptop_quad_test.tsv\")"
   ]
  },
  {
   "cell_type": "code",
   "execution_count": 4,
   "metadata": {},
   "outputs": [],
   "source": [
    "id_tr_df = pd.DataFrame(id_tr_df)\n",
    "id_te_df = pd.DataFrame(id_te_df)"
   ]
  },
  {
   "cell_type": "code",
   "execution_count": null,
   "metadata": {},
   "outputs": [],
   "source": [
    "loader = absa_instruction.data_utils.InstructDatasetLoader(id_tr_df, id_te_df)"
   ]
  },
  {
   "cell_type": "code",
   "execution_count": 7,
   "metadata": {},
   "outputs": [],
   "source": [
    "if loader.train_df_id is not None:\n",
    "    loader.train_df_id = loader.prepare_instruction_dataloader(loader.train_df_id)\n",
    "if loader.test_df_id is not None:\n",
    "    loader.test_df_id = loader.prepare_instruction_dataloader(loader.test_df_id)\n",
    "if loader.train_df_ood is not None:\n",
    "    loader.train_df_ood = loader.prepare_instruction_dataloader(loader.train_df_ood)\n",
    "if loader.test_df_ood is not None:\n",
    "    loader.test_df_ood = loader.prepare_instruction_dataloader(loader.test_df_ood)"
   ]
  }
 ],
 "metadata": {
  "kernelspec": {
   "display_name": "venv",
   "language": "python",
   "name": "python3"
  },
  "language_info": {
   "codemirror_mode": {
    "name": "ipython",
    "version": 3
   },
   "file_extension": ".py",
   "mimetype": "text/x-python",
   "name": "python",
   "nbconvert_exporter": "python",
   "pygments_lexer": "ipython3",
   "version": "3.12.2"
  }
 },
 "nbformat": 4,
 "nbformat_minor": 2
}
